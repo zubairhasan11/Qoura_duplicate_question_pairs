{
 "cells": [
  {
   "cell_type": "code",
   "execution_count": 1,
   "id": "750bda04",
   "metadata": {
    "_cell_guid": "b1076dfc-b9ad-4769-8c92-a6c4dae69d19",
    "_uuid": "8f2839f25d086af736a60e9eeb907d3b93b6e0e5",
    "execution": {
     "iopub.execute_input": "2023-02-17T16:22:46.322489Z",
     "iopub.status.busy": "2023-02-17T16:22:46.321823Z",
     "iopub.status.idle": "2023-02-17T16:22:46.338947Z",
     "shell.execute_reply": "2023-02-17T16:22:46.338085Z"
    },
    "papermill": {
     "duration": 0.03869,
     "end_time": "2023-02-17T16:22:46.342404",
     "exception": false,
     "start_time": "2023-02-17T16:22:46.303714",
     "status": "completed"
    },
    "tags": []
   },
   "outputs": [
    {
     "name": "stdout",
     "output_type": "stream",
     "text": [
      "/kaggle/input/quora-question-pairs/train.csv.zip\n",
      "/kaggle/input/quora-question-pairs/sample_submission.csv.zip\n",
      "/kaggle/input/quora-question-pairs/test.csv\n",
      "/kaggle/input/quora-question-pairs/test.csv.zip\n"
     ]
    }
   ],
   "source": [
    "# It is defined by the kaggle/python Docker image: https://github.com/kaggle/docker-python\n",
    "# For example, here's several helpful packages to load\n",
    "\n",
    "import numpy as np # linear algebra\n",
    "import pandas as pd # data processing, CSV file I/O (e.g. pd.read_csv)\n",
    "\n",
    "# Input data files are available in the read-only \"../input/\" directory\n",
    "# For example, running this (by clicking run or pressing Shift+Enter) will list all files under the input directory\n",
    "\n",
    "import os\n",
    "for dirname, _, filenames in os.walk('/kaggle/input'):\n",
    "    for filename in filenames:\n",
    "        print(os.path.join(dirname, filename))\n",
    "\n",
    "# You can write up to 20GB to the current directory (/kaggle/working/) that gets preserved as output when you create a version using \"Save & Run All\" \n",
    "# You can also write temporary files to /kaggle/temp/, but they won't be saved outside of the current session"
   ]
  },
  {
   "cell_type": "markdown",
   "id": "63e9c041",
   "metadata": {
    "papermill": {
     "duration": 0.012564,
     "end_time": "2023-02-17T16:22:46.368358",
     "exception": false,
     "start_time": "2023-02-17T16:22:46.355794",
     "status": "completed"
    },
    "tags": []
   },
   "source": [
    "This project aimed at developing a machine learning algorithm to identify whether pairs of questions on Quora were duplicates or not. The goal is to help Quora improve the quality of their platform by reducing the number of duplicate questions."
   ]
  },
  {
   "cell_type": "code",
   "execution_count": 2,
   "id": "3b8918f4",
   "metadata": {
    "execution": {
     "iopub.execute_input": "2023-02-17T16:22:46.396718Z",
     "iopub.status.busy": "2023-02-17T16:22:46.396239Z",
     "iopub.status.idle": "2023-02-17T16:22:48.544707Z",
     "shell.execute_reply": "2023-02-17T16:22:48.543573Z"
    },
    "papermill": {
     "duration": 2.165481,
     "end_time": "2023-02-17T16:22:48.547869",
     "exception": false,
     "start_time": "2023-02-17T16:22:46.382388",
     "status": "completed"
    },
    "tags": []
   },
   "outputs": [],
   "source": [
    "import seaborn as sns\n",
    "from nltk.corpus import stopwords\n",
    "import re\n",
    "import unidecode\n",
    "import matplotlib.pyplot as plt"
   ]
  },
  {
   "cell_type": "markdown",
   "id": "aa4ff941",
   "metadata": {
    "papermill": {
     "duration": 0.011967,
     "end_time": "2023-02-17T16:22:48.572411",
     "exception": false,
     "start_time": "2023-02-17T16:22:48.560444",
     "status": "completed"
    },
    "tags": []
   },
   "source": [
    "# Importing Data"
   ]
  },
  {
   "cell_type": "code",
   "execution_count": 3,
   "id": "67cf68c9",
   "metadata": {
    "execution": {
     "iopub.execute_input": "2023-02-17T16:22:48.599205Z",
     "iopub.status.busy": "2023-02-17T16:22:48.598465Z",
     "iopub.status.idle": "2023-02-17T16:23:08.707394Z",
     "shell.execute_reply": "2023-02-17T16:23:08.705496Z"
    },
    "papermill": {
     "duration": 20.125929,
     "end_time": "2023-02-17T16:23:08.710644",
     "exception": false,
     "start_time": "2023-02-17T16:22:48.584715",
     "status": "completed"
    },
    "tags": []
   },
   "outputs": [
    {
     "name": "stderr",
     "output_type": "stream",
     "text": [
      "/opt/conda/lib/python3.7/site-packages/IPython/core/interactiveshell.py:3552: DtypeWarning: Columns (0) have mixed types.Specify dtype option on import or set low_memory=False.\n",
      "  exec(code_obj, self.user_global_ns, self.user_ns)\n"
     ]
    }
   ],
   "source": [
    "train=pd.read_csv('/kaggle/input/quora-question-pairs/train.csv.zip')\n",
    "test=pd.read_csv('/kaggle/input/quora-question-pairs/test.csv.zip')"
   ]
  },
  {
   "cell_type": "code",
   "execution_count": 4,
   "id": "6f5e26c7",
   "metadata": {
    "execution": {
     "iopub.execute_input": "2023-02-17T16:23:08.737775Z",
     "iopub.status.busy": "2023-02-17T16:23:08.737330Z",
     "iopub.status.idle": "2023-02-17T16:23:08.762207Z",
     "shell.execute_reply": "2023-02-17T16:23:08.760770Z"
    },
    "papermill": {
     "duration": 0.041476,
     "end_time": "2023-02-17T16:23:08.764992",
     "exception": false,
     "start_time": "2023-02-17T16:23:08.723516",
     "status": "completed"
    },
    "tags": []
   },
   "outputs": [
    {
     "data": {
      "text/html": [
       "<div>\n",
       "<style scoped>\n",
       "    .dataframe tbody tr th:only-of-type {\n",
       "        vertical-align: middle;\n",
       "    }\n",
       "\n",
       "    .dataframe tbody tr th {\n",
       "        vertical-align: top;\n",
       "    }\n",
       "\n",
       "    .dataframe thead th {\n",
       "        text-align: right;\n",
       "    }\n",
       "</style>\n",
       "<table border=\"1\" class=\"dataframe\">\n",
       "  <thead>\n",
       "    <tr style=\"text-align: right;\">\n",
       "      <th></th>\n",
       "      <th>id</th>\n",
       "      <th>qid1</th>\n",
       "      <th>qid2</th>\n",
       "      <th>question1</th>\n",
       "      <th>question2</th>\n",
       "      <th>is_duplicate</th>\n",
       "    </tr>\n",
       "  </thead>\n",
       "  <tbody>\n",
       "    <tr>\n",
       "      <th>0</th>\n",
       "      <td>0</td>\n",
       "      <td>1</td>\n",
       "      <td>2</td>\n",
       "      <td>What is the step by step guide to invest in sh...</td>\n",
       "      <td>What is the step by step guide to invest in sh...</td>\n",
       "      <td>0</td>\n",
       "    </tr>\n",
       "    <tr>\n",
       "      <th>1</th>\n",
       "      <td>1</td>\n",
       "      <td>3</td>\n",
       "      <td>4</td>\n",
       "      <td>What is the story of Kohinoor (Koh-i-Noor) Dia...</td>\n",
       "      <td>What would happen if the Indian government sto...</td>\n",
       "      <td>0</td>\n",
       "    </tr>\n",
       "    <tr>\n",
       "      <th>2</th>\n",
       "      <td>2</td>\n",
       "      <td>5</td>\n",
       "      <td>6</td>\n",
       "      <td>How can I increase the speed of my internet co...</td>\n",
       "      <td>How can Internet speed be increased by hacking...</td>\n",
       "      <td>0</td>\n",
       "    </tr>\n",
       "    <tr>\n",
       "      <th>3</th>\n",
       "      <td>3</td>\n",
       "      <td>7</td>\n",
       "      <td>8</td>\n",
       "      <td>Why am I mentally very lonely? How can I solve...</td>\n",
       "      <td>Find the remainder when [math]23^{24}[/math] i...</td>\n",
       "      <td>0</td>\n",
       "    </tr>\n",
       "    <tr>\n",
       "      <th>4</th>\n",
       "      <td>4</td>\n",
       "      <td>9</td>\n",
       "      <td>10</td>\n",
       "      <td>Which one dissolve in water quikly sugar, salt...</td>\n",
       "      <td>Which fish would survive in salt water?</td>\n",
       "      <td>0</td>\n",
       "    </tr>\n",
       "  </tbody>\n",
       "</table>\n",
       "</div>"
      ],
      "text/plain": [
       "   id  qid1  qid2                                          question1  \\\n",
       "0   0     1     2  What is the step by step guide to invest in sh...   \n",
       "1   1     3     4  What is the story of Kohinoor (Koh-i-Noor) Dia...   \n",
       "2   2     5     6  How can I increase the speed of my internet co...   \n",
       "3   3     7     8  Why am I mentally very lonely? How can I solve...   \n",
       "4   4     9    10  Which one dissolve in water quikly sugar, salt...   \n",
       "\n",
       "                                           question2  is_duplicate  \n",
       "0  What is the step by step guide to invest in sh...             0  \n",
       "1  What would happen if the Indian government sto...             0  \n",
       "2  How can Internet speed be increased by hacking...             0  \n",
       "3  Find the remainder when [math]23^{24}[/math] i...             0  \n",
       "4            Which fish would survive in salt water?             0  "
      ]
     },
     "execution_count": 4,
     "metadata": {},
     "output_type": "execute_result"
    }
   ],
   "source": [
    "train.head()"
   ]
  },
  {
   "cell_type": "markdown",
   "id": "46530dae",
   "metadata": {
    "papermill": {
     "duration": 0.012255,
     "end_time": "2023-02-17T16:23:08.790156",
     "exception": false,
     "start_time": "2023-02-17T16:23:08.777901",
     "status": "completed"
    },
    "tags": []
   },
   "source": [
    "# EDA and Data Cleaning"
   ]
  },
  {
   "cell_type": "code",
   "execution_count": 5,
   "id": "3dee9a2c",
   "metadata": {
    "execution": {
     "iopub.execute_input": "2023-02-17T16:23:08.817742Z",
     "iopub.status.busy": "2023-02-17T16:23:08.816534Z",
     "iopub.status.idle": "2023-02-17T16:23:08.830635Z",
     "shell.execute_reply": "2023-02-17T16:23:08.829227Z"
    },
    "papermill": {
     "duration": 0.030545,
     "end_time": "2023-02-17T16:23:08.833229",
     "exception": false,
     "start_time": "2023-02-17T16:23:08.802684",
     "status": "completed"
    },
    "tags": []
   },
   "outputs": [
    {
     "data": {
      "text/html": [
       "<div>\n",
       "<style scoped>\n",
       "    .dataframe tbody tr th:only-of-type {\n",
       "        vertical-align: middle;\n",
       "    }\n",
       "\n",
       "    .dataframe tbody tr th {\n",
       "        vertical-align: top;\n",
       "    }\n",
       "\n",
       "    .dataframe thead th {\n",
       "        text-align: right;\n",
       "    }\n",
       "</style>\n",
       "<table border=\"1\" class=\"dataframe\">\n",
       "  <thead>\n",
       "    <tr style=\"text-align: right;\">\n",
       "      <th></th>\n",
       "      <th>test_id</th>\n",
       "      <th>question1</th>\n",
       "      <th>question2</th>\n",
       "    </tr>\n",
       "  </thead>\n",
       "  <tbody>\n",
       "    <tr>\n",
       "      <th>0</th>\n",
       "      <td>0</td>\n",
       "      <td>How does the Surface Pro himself 4 compare wit...</td>\n",
       "      <td>Why did Microsoft choose core m3 and not core ...</td>\n",
       "    </tr>\n",
       "    <tr>\n",
       "      <th>1</th>\n",
       "      <td>1</td>\n",
       "      <td>Should I have a hair transplant at age 24? How...</td>\n",
       "      <td>How much cost does hair transplant require?</td>\n",
       "    </tr>\n",
       "    <tr>\n",
       "      <th>2</th>\n",
       "      <td>2</td>\n",
       "      <td>What but is the best way to send money from Ch...</td>\n",
       "      <td>What you send money to China?</td>\n",
       "    </tr>\n",
       "    <tr>\n",
       "      <th>3</th>\n",
       "      <td>3</td>\n",
       "      <td>Which food not emulsifiers?</td>\n",
       "      <td>What foods fibre?</td>\n",
       "    </tr>\n",
       "    <tr>\n",
       "      <th>4</th>\n",
       "      <td>4</td>\n",
       "      <td>How \"aberystwyth\" start reading?</td>\n",
       "      <td>How their can I start reading?</td>\n",
       "    </tr>\n",
       "  </tbody>\n",
       "</table>\n",
       "</div>"
      ],
      "text/plain": [
       "  test_id                                          question1  \\\n",
       "0       0  How does the Surface Pro himself 4 compare wit...   \n",
       "1       1  Should I have a hair transplant at age 24? How...   \n",
       "2       2  What but is the best way to send money from Ch...   \n",
       "3       3                        Which food not emulsifiers?   \n",
       "4       4                   How \"aberystwyth\" start reading?   \n",
       "\n",
       "                                           question2  \n",
       "0  Why did Microsoft choose core m3 and not core ...  \n",
       "1        How much cost does hair transplant require?  \n",
       "2                      What you send money to China?  \n",
       "3                                  What foods fibre?  \n",
       "4                     How their can I start reading?  "
      ]
     },
     "execution_count": 5,
     "metadata": {},
     "output_type": "execute_result"
    }
   ],
   "source": [
    "test.head()"
   ]
  },
  {
   "cell_type": "code",
   "execution_count": 6,
   "id": "2b11fb5d",
   "metadata": {
    "execution": {
     "iopub.execute_input": "2023-02-17T16:23:08.861342Z",
     "iopub.status.busy": "2023-02-17T16:23:08.860173Z",
     "iopub.status.idle": "2023-02-17T16:23:09.927322Z",
     "shell.execute_reply": "2023-02-17T16:23:09.925991Z"
    },
    "papermill": {
     "duration": 1.084442,
     "end_time": "2023-02-17T16:23:09.930552",
     "exception": false,
     "start_time": "2023-02-17T16:23:08.846110",
     "status": "completed"
    },
    "tags": []
   },
   "outputs": [],
   "source": [
    "train[['question1','question2']]=train[['question1','question2']].astype(str)\n",
    "test[['question1','question2']]=test[['question1','question2']].astype(str)\n"
   ]
  },
  {
   "cell_type": "code",
   "execution_count": 7,
   "id": "0c29bb4d",
   "metadata": {
    "execution": {
     "iopub.execute_input": "2023-02-17T16:23:09.960042Z",
     "iopub.status.busy": "2023-02-17T16:23:09.959597Z",
     "iopub.status.idle": "2023-02-17T16:23:10.046801Z",
     "shell.execute_reply": "2023-02-17T16:23:10.044569Z"
    },
    "papermill": {
     "duration": 0.105705,
     "end_time": "2023-02-17T16:23:10.050764",
     "exception": false,
     "start_time": "2023-02-17T16:23:09.945059",
     "status": "completed"
    },
    "tags": []
   },
   "outputs": [
    {
     "name": "stdout",
     "output_type": "stream",
     "text": [
      "<class 'pandas.core.frame.DataFrame'>\n",
      "RangeIndex: 404290 entries, 0 to 404289\n",
      "Data columns (total 6 columns):\n",
      " #   Column        Non-Null Count   Dtype \n",
      "---  ------        --------------   ----- \n",
      " 0   id            404290 non-null  int64 \n",
      " 1   qid1          404290 non-null  int64 \n",
      " 2   qid2          404290 non-null  int64 \n",
      " 3   question1     404290 non-null  object\n",
      " 4   question2     404290 non-null  object\n",
      " 5   is_duplicate  404290 non-null  int64 \n",
      "dtypes: int64(4), object(2)\n",
      "memory usage: 18.5+ MB\n"
     ]
    }
   ],
   "source": [
    "train.info()"
   ]
  },
  {
   "cell_type": "code",
   "execution_count": 8,
   "id": "c231fd69",
   "metadata": {
    "execution": {
     "iopub.execute_input": "2023-02-17T16:23:10.080312Z",
     "iopub.status.busy": "2023-02-17T16:23:10.078753Z",
     "iopub.status.idle": "2023-02-17T16:23:12.822130Z",
     "shell.execute_reply": "2023-02-17T16:23:12.820869Z"
    },
    "papermill": {
     "duration": 2.760689,
     "end_time": "2023-02-17T16:23:12.824899",
     "exception": false,
     "start_time": "2023-02-17T16:23:10.064210",
     "status": "completed"
    },
    "tags": []
   },
   "outputs": [
    {
     "data": {
      "text/plain": [
       "<AxesSubplot:>"
      ]
     },
     "execution_count": 8,
     "metadata": {},
     "output_type": "execute_result"
    },
    {
     "data": {
      "image/png": "[encoded data removed]",
      "text/plain": [
       "<Figure size 432x288 with 2 Axes>"
      ]
     },
     "metadata": {
      "needs_background": "light"
     },
     "output_type": "display_data"
    }
   ],
   "source": [
    "sns.heatmap(train.isnull())"
   ]
  },
  {
   "cell_type": "code",
   "execution_count": 9,
   "id": "b2d3473b",
   "metadata": {
    "execution": {
     "iopub.execute_input": "2023-02-17T16:23:12.854850Z",
     "iopub.status.busy": "2023-02-17T16:23:12.854453Z",
     "iopub.status.idle": "2023-02-17T16:23:13.074349Z",
     "shell.execute_reply": "2023-02-17T16:23:13.072858Z"
    },
    "papermill": {
     "duration": 0.237907,
     "end_time": "2023-02-17T16:23:13.077281",
     "exception": false,
     "start_time": "2023-02-17T16:23:12.839374",
     "status": "completed"
    },
    "tags": []
   },
   "outputs": [
    {
     "name": "stderr",
     "output_type": "stream",
     "text": [
      "/opt/conda/lib/python3.7/site-packages/seaborn/_decorators.py:43: FutureWarning: Pass the following variable as a keyword arg: x. From version 0.12, the only valid positional argument will be `data`, and passing other arguments without an explicit keyword will result in an error or misinterpretation.\n",
      "  FutureWarning\n"
     ]
    },
    {
     "data": {
      "text/plain": [
       "<AxesSubplot:xlabel='is_duplicate', ylabel='count'>"
      ]
     },
     "execution_count": 9,
     "metadata": {},
     "output_type": "execute_result"
    },
    {
     "data": {
      "image/png": "[encoded data removed]",
      "text/plain": [
       "<Figure size 432x288 with 1 Axes>"
      ]
     },
     "metadata": {
      "needs_background": "light"
     },
     "output_type": "display_data"
    }
   ],
   "source": [
    "sns.countplot(train.is_duplicate)"
   ]
  },
  {
   "cell_type": "code",
   "execution_count": 10,
   "id": "43c7385f",
   "metadata": {
    "execution": {
     "iopub.execute_input": "2023-02-17T16:23:13.108440Z",
     "iopub.status.busy": "2023-02-17T16:23:13.107973Z",
     "iopub.status.idle": "2023-02-17T16:35:47.021059Z",
     "shell.execute_reply": "2023-02-17T16:35:47.019865Z"
    },
    "papermill": {
     "duration": 753.932723,
     "end_time": "2023-02-17T16:35:47.024125",
     "exception": false,
     "start_time": "2023-02-17T16:23:13.091402",
     "status": "completed"
    },
    "tags": []
   },
   "outputs": [],
   "source": [
    "def case_convert():\n",
    "    train.question1 = [i.lower() for i in train.question1 ]\n",
    "    train.question2= [i.lower() for i in train.question2 ]\n",
    "    test.question1 = [i.lower() for i in test.question1 ]\n",
    "    test.question2 = [i.lower() for i in test.question2 ]\n",
    "\n",
    "def remove_specials():\n",
    "        train.question1= [re.sub(r\"[^a-zA-Z]\",\" \",text) for text in train.question1]\n",
    "        train.question2= [re.sub(r\"[^a-zA-Z]\",\" \",text) for text in train.question2]\n",
    "        test.question1 = [re.sub(r\"[^a-zA-Z]\",\" \",text) for text in test.question1]\n",
    "        test.question2 = [re.sub(r\"[^a-zA-Z]\",\" \",text) for text in test.question2]\n",
    "\n",
    "\n",
    "def remove_shorthands():\n",
    "    CONTRACTION_MAP = {\n",
    "    \"ain't\": \"is not\",\n",
    "    \"aren't\": \"are not\",\n",
    "    \"can't\": \"cannot\",\n",
    "    \"can't've\": \"cannot have\",\n",
    "    \"'cause\": \"because\",\n",
    "    \"could've\": \"could have\",\n",
    "    \"couldn't\": \"could not\",\n",
    "    \"couldn't've\": \"could not have\",\n",
    "    \"didn't\": \"did not\",\n",
    "    \"doesn't\": \"does not\",\n",
    "    \"don't\": \"do not\",\n",
    "    \"hadn't\": \"had not\",\n",
    "    \"hadn't've\": \"had not have\",\n",
    "    \"hasn't\": \"has not\",\n",
    "    \"haven't\": \"have not\",\n",
    "    \"he'd\": \"he would\",\n",
    "    \"he'd've\": \"he would have\",\n",
    "    \"he'll\": \"he will\",\n",
    "    \"he'll've\": \"he he will have\",\n",
    "    \"he's\": \"he is\",\n",
    "    \"how'd\": \"how did\",\n",
    "    \"how'd'y\": \"how do you\",\n",
    "    \"how'll\": \"how will\",\n",
    "    \"how's\": \"how is\",\n",
    "    \"i'd\": \"i would\",\n",
    "    \"i'd've\": \"i would have\",\n",
    "    \"i'll\": \"i will\",\n",
    "    \"i'll've\": \"i will have\",\n",
    "    \"i'm\": \"i am\",\n",
    "    \"i've\": \"i have\",\n",
    "    \"isn't\": \"is not\",\n",
    "    \"it'd\": \"it would\",\n",
    "    \"it'd've\": \"it would have\",\n",
    "    \"it'll\": \"it will\",\n",
    "    \"it'll've\": \"it will have\",\n",
    "    \"it's\": \"it is\",\n",
    "    \"let's\": \"let us\",\n",
    "    \"ma'am\": \"madam\",\n",
    "    \"mayn't\": \"may not\",\n",
    "    \"might've\": \"might have\",\n",
    "    \"mightn't\": \"might not\",\n",
    "    \"mightn't've\": \"might not have\",\n",
    "    \"must've\": \"must have\",\n",
    "    \"mustn't\": \"must not\",\n",
    "    \"mustn't've\": \"must not have\",\n",
    "    \"needn't\": \"need not\",\n",
    "    \"needn't've\": \"need not have\",\n",
    "    \"o'clock\": \"of the clock\",\n",
    "    \"oughtn't\": \"ought not\",\n",
    "    \"oughtn't've\": \"ought not have\",\n",
    "    \"shan't\": \"shall not\",\n",
    "    \"sha'n't\": \"shall not\",\n",
    "    \"shan't've\": \"shall not have\",\n",
    "    \"she'd\": \"she would\",\n",
    "    \"she'd've\": \"she would have\",\n",
    "    \"she'll\": \"she will\",\n",
    "    \"she'll've\": \"she will have\",\n",
    "    \"she's\": \"she is\",\n",
    "    \"should've\": \"should have\",\n",
    "    \"shouldn't\": \"should not\",\n",
    "    \"shouldn't've\": \"should not have\",\n",
    "    \"so've\": \"so have\",\n",
    "    \"so's\": \"so as\",\n",
    "    \"that'd\": \"that would\",\n",
    "    \"that'd've\": \"that would have\",\n",
    "    \"that's\": \"that is\",\n",
    "    \"there'd\": \"there would\",\n",
    "    \"there'd've\": \"there would have\",\n",
    "    \"there's\": \"there is\",\n",
    "    \"they'd\": \"they would\",\n",
    "    \"they'd've\": \"they would have\",\n",
    "    \"they'll\": \"they will\",\n",
    "    \"they'll've\": \"they will have\",\n",
    "    \"they're\": \"they are\",\n",
    "    \"they've\": \"they have\",\n",
    "    \"to've\": \"to have\",\n",
    "    \"wasn't\": \"was not\",\n",
    "    \"we'd\": \"we would\",\n",
    "    \"we'd've\": \"we would have\",\n",
    "    \"we'll\": \"we will\",\n",
    "    \"we'll've\": \"we will have\",\n",
    "    \"we're\": \"we are\",\n",
    "    \"we've\": \"we have\",\n",
    "    \"weren't\": \"were not\",\n",
    "    \"what'll\": \"what will\",\n",
    "    \"what'll've\": \"what will have\",\n",
    "    \"what're\": \"what are\",\n",
    "    \"what's\": \"what is\",\n",
    "    \"what've\": \"what have\",\n",
    "    \"when's\": \"when is\",\n",
    "    \"when've\": \"when have\",\n",
    "    \"where'd\": \"where did\",\n",
    "    \"where's\": \"where is\",\n",
    "    \"where've\": \"where have\",\n",
    "    \"who'll\": \"who will\",\n",
    "    \"who'll've\": \"who will have\",\n",
    "    \"who's\": \"who is\",\n",
    "    \"who've\": \"who have\",\n",
    "    \"why's\": \"why is\",\n",
    "    \"why've\": \"why have\",\n",
    "    \"will've\": \"will have\",\n",
    "    \"won't\": \"will not\",\n",
    "    \"won't've\": \"will not have\",\n",
    "    \"would've\": \"would have\",\n",
    "    \"wouldn't\": \"would not\",\n",
    "    \"wouldn't've\": \"would not have\",\n",
    "    \"y'all\": \"you all\",\n",
    "    \"y'all'd\": \"you all would\",\n",
    "    \"y'all'd've\": \"you all would have\",\n",
    "    \"y'all're\": \"you all are\",\n",
    "    \"y'all've\": \"you all have\",\n",
    "    \"you'd\": \"you would\",\n",
    "    \"you'd've\": \"you would have\",\n",
    "    \"you'll\": \"you will\",\n",
    "    \"you'll've\": \"you will have\",\n",
    "    \"you're\": \"you are\",\n",
    "    \"you've\": \"you have\"\n",
    "    }\n",
    "    texts = []\n",
    "    for text in train.question1:\n",
    "        string = \"\"\n",
    "        for word in text.split(\" \"):\n",
    "            if word.strip() in list(CONTRACTION_MAP.keys()):\n",
    "                string = string + \" \" + CONTRACTION_MAP[word]\n",
    "            else:\n",
    "                string = string + \" \" + word\n",
    "        texts.append(string.strip())\n",
    "    train.question1 = texts\n",
    "    texts.clear()\n",
    "    for text in train.question2:\n",
    "        string = \"\"\n",
    "        for word in text.split(\" \"):\n",
    "            if word.strip() in list(CONTRACTION_MAP.keys()):\n",
    "                string = string + \" \" + CONTRACTION_MAP[word]\n",
    "            else:\n",
    "                string = string + \" \" + word\n",
    "        texts.append(string.strip())\n",
    "    train.question2 = texts\n",
    "    texts.clear()\n",
    "    for text in test.question1:\n",
    "        string = \"\"\n",
    "        for word in text.split(\" \"):\n",
    "            if word.strip() in list(CONTRACTION_MAP.keys()):\n",
    "                string = string + \" \" + CONTRACTION_MAP[word]\n",
    "            else:\n",
    "                string = string + \" \" + word\n",
    "        texts.append(string.strip())\n",
    "    test.question1 = texts\n",
    "    texts.clear()\n",
    "    for text in test.question2:\n",
    "        string = \"\"\n",
    "        for word in text.split(\" \"):\n",
    "            if word.strip() in list(CONTRACTION_MAP.keys()):\n",
    "                string = string + \" \" + CONTRACTION_MAP[word]\n",
    "            else:\n",
    "                string = string + \" \" + word\n",
    "        texts.append(string.strip())\n",
    "    test.question2 = texts\n",
    "    \n",
    "    \n",
    "\n",
    "def remove_stopwords():\n",
    "    texts = []\n",
    "    stopwords_list = stopwords.words('english')\n",
    "    for item in train.question1:\n",
    "        string = \"\"\n",
    "        for word in item.split(\" \"):\n",
    "            if word.strip() in stopwords_list:\n",
    "                continue\n",
    "            else:\n",
    "                string = string + \" \" + word\n",
    "        texts.append(string)\n",
    "    train.question1 = texts\n",
    "    texts.clear()\n",
    "    for item in train.question2:\n",
    "        string = \"\"\n",
    "        for word in item.split(\" \"):\n",
    "            if word.strip() in stopwords_list:\n",
    "                continue\n",
    "            else:\n",
    "                string = string + \" \" + word\n",
    "        texts.append(string)\n",
    "    train.question2 = texts\n",
    "    texts.clear()\n",
    "    for item in test.question1:\n",
    "        string = \"\"\n",
    "        for word in item.split(\" \"):\n",
    "            if word.strip() in stopwords_list:\n",
    "                continue\n",
    "            else:\n",
    "                string = string + \" \" + word\n",
    "        texts.append(string)\n",
    "    test.question1 = texts\n",
    "    texts.clear()\n",
    "    \n",
    "    for item in test.question2:\n",
    "        string = \"\"\n",
    "        for word in item.split(\" \"):\n",
    "            if word.strip() in stopwords_list:\n",
    "                continue\n",
    "            else:\n",
    "                string = string + \" \" + word\n",
    "        texts.append(string)\n",
    "    test.question2 = texts\n",
    "\n",
    "def remove_accents():\n",
    "   \n",
    "    train.question1=[unidecode.unidecode(text) for text in train.question1 ] \n",
    "    train.question2= [unidecode.unidecode(text) for text in train.question2]\n",
    "    test.question1 = [unidecode.unidecode(text) for text in test.question1]\n",
    "    test.question2 = [unidecode.unidecode(text) for text in test.question2]\n",
    "\n",
    "def normalize_spaces():\n",
    "    \n",
    "    train.question1=[re.sub(r\"\\s+\",\" \",text) for text in train.question1 ] \n",
    "    train.question2= [re.sub(r\"\\s+\",\" \",text) for text in train.question2]\n",
    "    test.question1 = [re.sub(r\"\\s+\",\" \",text) for text in test.question1]\n",
    "    test.question2 = [re.sub(r\"\\s+\",\" \",text) for text in test.question2]\n",
    "    \n",
    "\n",
    "case_convert()\n",
    "remove_shorthands()\n",
    "remove_accents()\n",
    "remove_specials()\n",
    "remove_stopwords()\n",
    "normalize_spaces()\n"
   ]
  },
  {
   "cell_type": "code",
   "execution_count": 11,
   "id": "2b27f5dd",
   "metadata": {
    "execution": {
     "iopub.execute_input": "2023-02-17T16:35:47.055163Z",
     "iopub.status.busy": "2023-02-17T16:35:47.053685Z",
     "iopub.status.idle": "2023-02-17T16:35:47.067618Z",
     "shell.execute_reply": "2023-02-17T16:35:47.066351Z"
    },
    "papermill": {
     "duration": 0.031733,
     "end_time": "2023-02-17T16:35:47.070346",
     "exception": false,
     "start_time": "2023-02-17T16:35:47.038613",
     "status": "completed"
    },
    "tags": []
   },
   "outputs": [
    {
     "data": {
      "text/html": [
       "<div>\n",
       "<style scoped>\n",
       "    .dataframe tbody tr th:only-of-type {\n",
       "        vertical-align: middle;\n",
       "    }\n",
       "\n",
       "    .dataframe tbody tr th {\n",
       "        vertical-align: top;\n",
       "    }\n",
       "\n",
       "    .dataframe thead th {\n",
       "        text-align: right;\n",
       "    }\n",
       "</style>\n",
       "<table border=\"1\" class=\"dataframe\">\n",
       "  <thead>\n",
       "    <tr style=\"text-align: right;\">\n",
       "      <th></th>\n",
       "      <th>id</th>\n",
       "      <th>qid1</th>\n",
       "      <th>qid2</th>\n",
       "      <th>question1</th>\n",
       "      <th>question2</th>\n",
       "      <th>is_duplicate</th>\n",
       "    </tr>\n",
       "  </thead>\n",
       "  <tbody>\n",
       "    <tr>\n",
       "      <th>0</th>\n",
       "      <td>0</td>\n",
       "      <td>1</td>\n",
       "      <td>2</td>\n",
       "      <td>step step guide invest share market india</td>\n",
       "      <td>step step guide invest share market</td>\n",
       "      <td>0</td>\n",
       "    </tr>\n",
       "    <tr>\n",
       "      <th>1</th>\n",
       "      <td>1</td>\n",
       "      <td>3</td>\n",
       "      <td>4</td>\n",
       "      <td>story kohinoor koh noor diamond</td>\n",
       "      <td>would happen indian government stole kohinoor...</td>\n",
       "      <td>0</td>\n",
       "    </tr>\n",
       "    <tr>\n",
       "      <th>2</th>\n",
       "      <td>2</td>\n",
       "      <td>5</td>\n",
       "      <td>6</td>\n",
       "      <td>increase speed internet connection using vpn</td>\n",
       "      <td>internet speed increased hacking dns</td>\n",
       "      <td>0</td>\n",
       "    </tr>\n",
       "    <tr>\n",
       "      <th>3</th>\n",
       "      <td>3</td>\n",
       "      <td>7</td>\n",
       "      <td>8</td>\n",
       "      <td>mentally lonely solve</td>\n",
       "      <td>find remainder math math divided</td>\n",
       "      <td>0</td>\n",
       "    </tr>\n",
       "    <tr>\n",
       "      <th>4</th>\n",
       "      <td>4</td>\n",
       "      <td>9</td>\n",
       "      <td>10</td>\n",
       "      <td>one dissolve water quikly sugar salt methane ...</td>\n",
       "      <td>fish would survive salt water</td>\n",
       "      <td>0</td>\n",
       "    </tr>\n",
       "  </tbody>\n",
       "</table>\n",
       "</div>"
      ],
      "text/plain": [
       "   id  qid1  qid2                                          question1  \\\n",
       "0   0     1     2         step step guide invest share market india    \n",
       "1   1     3     4                   story kohinoor koh noor diamond    \n",
       "2   2     5     6      increase speed internet connection using vpn    \n",
       "3   3     7     8                             mentally lonely solve    \n",
       "4   4     9    10   one dissolve water quikly sugar salt methane ...   \n",
       "\n",
       "                                           question2  is_duplicate  \n",
       "0               step step guide invest share market              0  \n",
       "1   would happen indian government stole kohinoor...             0  \n",
       "2              internet speed increased hacking dns              0  \n",
       "3                  find remainder math math divided              0  \n",
       "4                     fish would survive salt water              0  "
      ]
     },
     "execution_count": 11,
     "metadata": {},
     "output_type": "execute_result"
    }
   ],
   "source": [
    "train.head()"
   ]
  },
  {
   "cell_type": "markdown",
   "id": "84964f85",
   "metadata": {
    "papermill": {
     "duration": 0.014034,
     "end_time": "2023-02-17T16:35:47.098657",
     "exception": false,
     "start_time": "2023-02-17T16:35:47.084623",
     "status": "completed"
    },
    "tags": []
   },
   "source": [
    "# **Machine Learning Approach**"
   ]
  },
  {
   "cell_type": "markdown",
   "id": "deae7c14",
   "metadata": {
    "papermill": {
     "duration": 0.014255,
     "end_time": "2023-02-17T16:35:47.127559",
     "exception": false,
     "start_time": "2023-02-17T16:35:47.113304",
     "status": "completed"
    },
    "tags": []
   },
   "source": [
    "## Feature engineering and feature extraction"
   ]
  },
  {
   "cell_type": "markdown",
   "id": "74020132",
   "metadata": {
    "papermill": {
     "duration": 0.013753,
     "end_time": "2023-02-17T16:35:47.155351",
     "exception": false,
     "start_time": "2023-02-17T16:35:47.141598",
     "status": "completed"
    },
    "tags": []
   },
   "source": [
    "* q1_len=Length of question 1\n",
    "* q1_len=Length of question 2\n",
    "* q1_word=No.of words in question 1\n",
    "* q2_word=No.of words in question 2\n",
    "* common_words=No. of common words in question 1 and question 2\n",
    "* word_share_q1=Number of common words/No. of words in question 1\n",
    "* word_share_q2=Number of common words/No. of words in question 2"
   ]
  },
  {
   "cell_type": "code",
   "execution_count": 12,
   "id": "0975cef0",
   "metadata": {
    "execution": {
     "iopub.execute_input": "2023-02-17T16:35:47.185298Z",
     "iopub.status.busy": "2023-02-17T16:35:47.184887Z",
     "iopub.status.idle": "2023-02-17T16:35:51.404449Z",
     "shell.execute_reply": "2023-02-17T16:35:51.403251Z"
    },
    "papermill": {
     "duration": 4.237851,
     "end_time": "2023-02-17T16:35:51.407128",
     "exception": false,
     "start_time": "2023-02-17T16:35:47.169277",
     "status": "completed"
    },
    "tags": []
   },
   "outputs": [],
   "source": [
    "#word len\n",
    "train['q1_len']=train['question1'].str.len()\n",
    "train['q2_len']=train['question2'].str.len()\n",
    "\n",
    "#word count\n",
    "train['q1_word']=train['question1'].apply(lambda x: len(x.split(\" \")))\n",
    "train['q2_word']=train['question2'].apply(lambda x: len(x.split(\" \")))\n",
    "\n",
    "\n",
    "#common words\n",
    "\n",
    "train['s1']=train['question1'].apply(lambda x: x.split(\" \"))\n",
    "train['s2']=train['question1'].apply(lambda x: x.split(\" \"))\n",
    "train['common_words']= [len(set(a) & set(b)) for a, b in zip(train.s1, train.s2)]\n",
    "train.drop(['s1','s2'],axis=1,inplace=True)\n",
    "\n",
    "\n",
    "#common words share\n",
    "\n",
    "train['word_share_q1']=round(train['common_words']/train['q1_word'],2)\n",
    "train['word_share_q2']=round(train['common_words']/train['q2_word'],2)\n",
    "\n"
   ]
  },
  {
   "cell_type": "markdown",
   "id": "cd9be6e5",
   "metadata": {
    "papermill": {
     "duration": 0.013625,
     "end_time": "2023-02-17T16:35:51.434757",
     "exception": false,
     "start_time": "2023-02-17T16:35:51.421132",
     "status": "completed"
    },
    "tags": []
   },
   "source": [
    "## Analyzing the new features"
   ]
  },
  {
   "cell_type": "markdown",
   "id": "2c088ac8",
   "metadata": {
    "papermill": {
     "duration": 0.013466,
     "end_time": "2023-02-17T16:35:51.462122",
     "exception": false,
     "start_time": "2023-02-17T16:35:51.448656",
     "status": "completed"
    },
    "tags": []
   },
   "source": [
    "1. q1_len and q2_len"
   ]
  },
  {
   "cell_type": "code",
   "execution_count": 13,
   "id": "a44c8442",
   "metadata": {
    "execution": {
     "iopub.execute_input": "2023-02-17T16:35:51.491801Z",
     "iopub.status.busy": "2023-02-17T16:35:51.491421Z",
     "iopub.status.idle": "2023-02-17T16:35:53.693488Z",
     "shell.execute_reply": "2023-02-17T16:35:53.692030Z"
    },
    "papermill": {
     "duration": 2.220459,
     "end_time": "2023-02-17T16:35:53.696559",
     "exception": false,
     "start_time": "2023-02-17T16:35:51.476100",
     "status": "completed"
    },
    "tags": []
   },
   "outputs": [
    {
     "name": "stderr",
     "output_type": "stream",
     "text": [
      "/opt/conda/lib/python3.7/site-packages/seaborn/distributions.py:2619: FutureWarning: `distplot` is a deprecated function and will be removed in a future version. Please adapt your code to use either `displot` (a figure-level function with similar flexibility) or `histplot` (an axes-level function for histograms).\n",
      "  warnings.warn(msg, FutureWarning)\n",
      "/opt/conda/lib/python3.7/site-packages/seaborn/distributions.py:2619: FutureWarning: `distplot` is a deprecated function and will be removed in a future version. Please adapt your code to use either `displot` (a figure-level function with similar flexibility) or `histplot` (an axes-level function for histograms).\n",
      "  warnings.warn(msg, FutureWarning)\n"
     ]
    },
    {
     "data": {
      "image/png": "[encoded data removed]",
      "text/plain": [
       "<Figure size 720x720 with 1 Axes>"
      ]
     },
     "metadata": {
      "needs_background": "light"
     },
     "output_type": "display_data"
    }
   ],
   "source": [
    "plt.figure(figsize=(10,10))\n",
    "sns.distplot(train[train['is_duplicate']==0]['q1_len'])\n",
    "sns.distplot(train[train['is_duplicate']==1]['q2_len'])\n",
    "plt.legend()\n",
    "plt.show()"
   ]
  },
  {
   "cell_type": "markdown",
   "id": "c747e21a",
   "metadata": {
    "papermill": {
     "duration": 0.01584,
     "end_time": "2023-02-17T16:35:53.727200",
     "exception": false,
     "start_time": "2023-02-17T16:35:53.711360",
     "status": "completed"
    },
    "tags": []
   },
   "source": [
    "2. q1_word and q2_word"
   ]
  },
  {
   "cell_type": "code",
   "execution_count": 14,
   "id": "b2e44a66",
   "metadata": {
    "execution": {
     "iopub.execute_input": "2023-02-17T16:35:53.760573Z",
     "iopub.status.busy": "2023-02-17T16:35:53.760169Z",
     "iopub.status.idle": "2023-02-17T16:35:55.898711Z",
     "shell.execute_reply": "2023-02-17T16:35:55.897328Z"
    },
    "papermill": {
     "duration": 2.15891,
     "end_time": "2023-02-17T16:35:55.901673",
     "exception": false,
     "start_time": "2023-02-17T16:35:53.742763",
     "status": "completed"
    },
    "tags": []
   },
   "outputs": [
    {
     "name": "stderr",
     "output_type": "stream",
     "text": [
      "/opt/conda/lib/python3.7/site-packages/seaborn/distributions.py:2619: FutureWarning: `distplot` is a deprecated function and will be removed in a future version. Please adapt your code to use either `displot` (a figure-level function with similar flexibility) or `histplot` (an axes-level function for histograms).\n",
      "  warnings.warn(msg, FutureWarning)\n",
      "/opt/conda/lib/python3.7/site-packages/seaborn/distributions.py:2619: FutureWarning: `distplot` is a deprecated function and will be removed in a future version. Please adapt your code to use either `displot` (a figure-level function with similar flexibility) or `histplot` (an axes-level function for histograms).\n",
      "  warnings.warn(msg, FutureWarning)\n"
     ]
    },
    {
     "data": {
      "image/png": "[encoded data removed]",
      "text/plain": [
       "<Figure size 720x720 with 1 Axes>"
      ]
     },
     "metadata": {
      "needs_background": "light"
     },
     "output_type": "display_data"
    }
   ],
   "source": [
    "plt.figure(figsize=(10,10))\n",
    "sns.distplot(train[train['is_duplicate']==0]['q1_word'])\n",
    "sns.distplot(train[train['is_duplicate']==1]['q2_word'])\n",
    "plt.legend()\n",
    "plt.show()"
   ]
  },
  {
   "cell_type": "markdown",
   "id": "43ba9c2c",
   "metadata": {
    "papermill": {
     "duration": 0.015761,
     "end_time": "2023-02-17T16:35:55.933242",
     "exception": false,
     "start_time": "2023-02-17T16:35:55.917481",
     "status": "completed"
    },
    "tags": []
   },
   "source": [
    "3.  word_share_q1 and word_share_q2"
   ]
  },
  {
   "cell_type": "code",
   "execution_count": 15,
   "id": "d5994614",
   "metadata": {
    "execution": {
     "iopub.execute_input": "2023-02-17T16:35:55.965904Z",
     "iopub.status.busy": "2023-02-17T16:35:55.965430Z",
     "iopub.status.idle": "2023-02-17T16:35:58.177329Z",
     "shell.execute_reply": "2023-02-17T16:35:58.176154Z"
    },
    "papermill": {
     "duration": 2.231235,
     "end_time": "2023-02-17T16:35:58.179768",
     "exception": false,
     "start_time": "2023-02-17T16:35:55.948533",
     "status": "completed"
    },
    "tags": []
   },
   "outputs": [
    {
     "name": "stderr",
     "output_type": "stream",
     "text": [
      "/opt/conda/lib/python3.7/site-packages/seaborn/distributions.py:2619: FutureWarning: `distplot` is a deprecated function and will be removed in a future version. Please adapt your code to use either `displot` (a figure-level function with similar flexibility) or `histplot` (an axes-level function for histograms).\n",
      "  warnings.warn(msg, FutureWarning)\n",
      "/opt/conda/lib/python3.7/site-packages/seaborn/distributions.py:2619: FutureWarning: `distplot` is a deprecated function and will be removed in a future version. Please adapt your code to use either `displot` (a figure-level function with similar flexibility) or `histplot` (an axes-level function for histograms).\n",
      "  warnings.warn(msg, FutureWarning)\n"
     ]
    },
    {
     "data": {
      "image/png": "[encoded data removed]",
      "text/plain": [
       "<Figure size 720x720 with 1 Axes>"
      ]
     },
     "metadata": {
      "needs_background": "light"
     },
     "output_type": "display_data"
    }
   ],
   "source": [
    "plt.figure(figsize=(10,10))\n",
    "sns.distplot(train[train['is_duplicate']==0]['word_share_q1'])\n",
    "sns.distplot(train[train['is_duplicate']==1]['word_share_q2'])\n",
    "plt.legend()\n",
    "plt.show()"
   ]
  },
  {
   "cell_type": "markdown",
   "id": "dcc15b64",
   "metadata": {
    "papermill": {
     "duration": 0.015783,
     "end_time": "2023-02-17T16:35:58.211706",
     "exception": false,
     "start_time": "2023-02-17T16:35:58.195923",
     "status": "completed"
    },
    "tags": []
   },
   "source": [
    "## Spliting the data into test and train data"
   ]
  },
  {
   "cell_type": "code",
   "execution_count": 16,
   "id": "47dcb717",
   "metadata": {
    "execution": {
     "iopub.execute_input": "2023-02-17T16:35:58.245971Z",
     "iopub.status.busy": "2023-02-17T16:35:58.245530Z",
     "iopub.status.idle": "2023-02-17T16:35:58.271676Z",
     "shell.execute_reply": "2023-02-17T16:35:58.270395Z"
    },
    "papermill": {
     "duration": 0.047055,
     "end_time": "2023-02-17T16:35:58.274768",
     "exception": false,
     "start_time": "2023-02-17T16:35:58.227713",
     "status": "completed"
    },
    "tags": []
   },
   "outputs": [],
   "source": [
    "x=train.drop(['is_duplicate'],axis=1)\n",
    "y=train['is_duplicate']"
   ]
  },
  {
   "cell_type": "code",
   "execution_count": 17,
   "id": "89eb0138",
   "metadata": {
    "execution": {
     "iopub.execute_input": "2023-02-17T16:35:58.308532Z",
     "iopub.status.busy": "2023-02-17T16:35:58.308079Z",
     "iopub.status.idle": "2023-02-17T16:35:58.474386Z",
     "shell.execute_reply": "2023-02-17T16:35:58.473220Z"
    },
    "papermill": {
     "duration": 0.186858,
     "end_time": "2023-02-17T16:35:58.477556",
     "exception": false,
     "start_time": "2023-02-17T16:35:58.290698",
     "status": "completed"
    },
    "tags": []
   },
   "outputs": [],
   "source": [
    "from sklearn.model_selection import train_test_split\n",
    "x_train, x_test, y_train, y_test = train_test_split(x,\n",
    "                                                    y,\n",
    "                                                    test_size=0.33,\n",
    "                                                    random_state=41\n",
    "                                                    )\n",
    " "
   ]
  },
  {
   "cell_type": "markdown",
   "id": "d2032703",
   "metadata": {
    "papermill": {
     "duration": 0.017385,
     "end_time": "2023-02-17T16:35:58.511387",
     "exception": false,
     "start_time": "2023-02-17T16:35:58.494002",
     "status": "completed"
    },
    "tags": []
   },
   "source": [
    "### Vectorizing question1 and question2 using tfidf vectorizer"
   ]
  },
  {
   "cell_type": "code",
   "execution_count": 18,
   "id": "aca09a06",
   "metadata": {
    "execution": {
     "iopub.execute_input": "2023-02-17T16:35:58.545842Z",
     "iopub.status.busy": "2023-02-17T16:35:58.545419Z",
     "iopub.status.idle": "2023-02-17T16:36:15.544244Z",
     "shell.execute_reply": "2023-02-17T16:36:15.543085Z"
    },
    "papermill": {
     "duration": 17.019302,
     "end_time": "2023-02-17T16:36:15.547150",
     "exception": false,
     "start_time": "2023-02-17T16:35:58.527848",
     "status": "completed"
    },
    "tags": []
   },
   "outputs": [],
   "source": [
    "\n",
    "from sklearn.feature_extraction.text import TfidfVectorizer\n",
    "vectorizer = TfidfVectorizer(max_features=3000)\n",
    "traindf = vectorizer.fit_transform(x_train['question1']+' '+x_train['question2']).toarray()\n",
    "testdf = vectorizer.fit_transform(x_test['question1']+' '+x_test['question2']).toarray()\n",
    "\n"
   ]
  },
  {
   "cell_type": "code",
   "execution_count": 19,
   "id": "033a1733",
   "metadata": {
    "execution": {
     "iopub.execute_input": "2023-02-17T16:36:15.582941Z",
     "iopub.status.busy": "2023-02-17T16:36:15.582542Z",
     "iopub.status.idle": "2023-02-17T16:36:15.606071Z",
     "shell.execute_reply": "2023-02-17T16:36:15.604640Z"
    },
    "papermill": {
     "duration": 0.044689,
     "end_time": "2023-02-17T16:36:15.608835",
     "exception": false,
     "start_time": "2023-02-17T16:36:15.564146",
     "status": "completed"
    },
    "tags": []
   },
   "outputs": [],
   "source": [
    "x_train=x_train.drop(['question1','question2'],axis=1)\n",
    "\n"
   ]
  },
  {
   "cell_type": "code",
   "execution_count": 20,
   "id": "c3d79817",
   "metadata": {
    "execution": {
     "iopub.execute_input": "2023-02-17T16:36:15.644341Z",
     "iopub.status.busy": "2023-02-17T16:36:15.643886Z",
     "iopub.status.idle": "2023-02-17T16:36:15.659042Z",
     "shell.execute_reply": "2023-02-17T16:36:15.657693Z"
    },
    "papermill": {
     "duration": 0.035706,
     "end_time": "2023-02-17T16:36:15.661690",
     "exception": false,
     "start_time": "2023-02-17T16:36:15.625984",
     "status": "completed"
    },
    "tags": []
   },
   "outputs": [],
   "source": [
    "x_test=x_test.drop(['question1','question2'],axis=1)"
   ]
  },
  {
   "cell_type": "code",
   "execution_count": 21,
   "id": "d8a42f56",
   "metadata": {
    "execution": {
     "iopub.execute_input": "2023-02-17T16:36:15.697302Z",
     "iopub.status.busy": "2023-02-17T16:36:15.696525Z",
     "iopub.status.idle": "2023-02-17T16:36:15.712285Z",
     "shell.execute_reply": "2023-02-17T16:36:15.711024Z"
    },
    "papermill": {
     "duration": 0.037015,
     "end_time": "2023-02-17T16:36:15.715163",
     "exception": false,
     "start_time": "2023-02-17T16:36:15.678148",
     "status": "completed"
    },
    "tags": []
   },
   "outputs": [
    {
     "data": {
      "text/html": [
       "<div>\n",
       "<style scoped>\n",
       "    .dataframe tbody tr th:only-of-type {\n",
       "        vertical-align: middle;\n",
       "    }\n",
       "\n",
       "    .dataframe tbody tr th {\n",
       "        vertical-align: top;\n",
       "    }\n",
       "\n",
       "    .dataframe thead th {\n",
       "        text-align: right;\n",
       "    }\n",
       "</style>\n",
       "<table border=\"1\" class=\"dataframe\">\n",
       "  <thead>\n",
       "    <tr style=\"text-align: right;\">\n",
       "      <th></th>\n",
       "      <th>id</th>\n",
       "      <th>qid1</th>\n",
       "      <th>qid2</th>\n",
       "      <th>q1_len</th>\n",
       "      <th>q2_len</th>\n",
       "      <th>q1_word</th>\n",
       "      <th>q2_word</th>\n",
       "      <th>common_words</th>\n",
       "      <th>word_share_q1</th>\n",
       "      <th>word_share_q2</th>\n",
       "    </tr>\n",
       "  </thead>\n",
       "  <tbody>\n",
       "    <tr>\n",
       "      <th>155577</th>\n",
       "      <td>155577</td>\n",
       "      <td>243705</td>\n",
       "      <td>17614</td>\n",
       "      <td>39</td>\n",
       "      <td>18</td>\n",
       "      <td>7</td>\n",
       "      <td>5</td>\n",
       "      <td>6</td>\n",
       "      <td>0.86</td>\n",
       "      <td>1.20</td>\n",
       "    </tr>\n",
       "    <tr>\n",
       "      <th>9391</th>\n",
       "      <td>9391</td>\n",
       "      <td>18247</td>\n",
       "      <td>18248</td>\n",
       "      <td>82</td>\n",
       "      <td>85</td>\n",
       "      <td>14</td>\n",
       "      <td>15</td>\n",
       "      <td>13</td>\n",
       "      <td>0.93</td>\n",
       "      <td>0.87</td>\n",
       "    </tr>\n",
       "    <tr>\n",
       "      <th>233146</th>\n",
       "      <td>233146</td>\n",
       "      <td>207014</td>\n",
       "      <td>170677</td>\n",
       "      <td>22</td>\n",
       "      <td>26</td>\n",
       "      <td>5</td>\n",
       "      <td>5</td>\n",
       "      <td>4</td>\n",
       "      <td>0.80</td>\n",
       "      <td>0.80</td>\n",
       "    </tr>\n",
       "    <tr>\n",
       "      <th>259208</th>\n",
       "      <td>259208</td>\n",
       "      <td>229448</td>\n",
       "      <td>131741</td>\n",
       "      <td>55</td>\n",
       "      <td>110</td>\n",
       "      <td>9</td>\n",
       "      <td>17</td>\n",
       "      <td>7</td>\n",
       "      <td>0.78</td>\n",
       "      <td>0.41</td>\n",
       "    </tr>\n",
       "    <tr>\n",
       "      <th>60616</th>\n",
       "      <td>60616</td>\n",
       "      <td>105977</td>\n",
       "      <td>105978</td>\n",
       "      <td>38</td>\n",
       "      <td>35</td>\n",
       "      <td>7</td>\n",
       "      <td>7</td>\n",
       "      <td>6</td>\n",
       "      <td>0.86</td>\n",
       "      <td>0.86</td>\n",
       "    </tr>\n",
       "  </tbody>\n",
       "</table>\n",
       "</div>"
      ],
      "text/plain": [
       "            id    qid1    qid2  q1_len  q2_len  q1_word  q2_word  \\\n",
       "155577  155577  243705   17614      39      18        7        5   \n",
       "9391      9391   18247   18248      82      85       14       15   \n",
       "233146  233146  207014  170677      22      26        5        5   \n",
       "259208  259208  229448  131741      55     110        9       17   \n",
       "60616    60616  105977  105978      38      35        7        7   \n",
       "\n",
       "        common_words  word_share_q1  word_share_q2  \n",
       "155577             6           0.86           1.20  \n",
       "9391              13           0.93           0.87  \n",
       "233146             4           0.80           0.80  \n",
       "259208             7           0.78           0.41  \n",
       "60616              6           0.86           0.86  "
      ]
     },
     "execution_count": 21,
     "metadata": {},
     "output_type": "execute_result"
    }
   ],
   "source": [
    "x_test.head()"
   ]
  },
  {
   "cell_type": "code",
   "execution_count": 22,
   "id": "9093d354",
   "metadata": {
    "execution": {
     "iopub.execute_input": "2023-02-17T16:36:15.750335Z",
     "iopub.status.busy": "2023-02-17T16:36:15.749899Z",
     "iopub.status.idle": "2023-02-17T16:36:22.392617Z",
     "shell.execute_reply": "2023-02-17T16:36:22.391385Z"
    },
    "papermill": {
     "duration": 6.664245,
     "end_time": "2023-02-17T16:36:22.395935",
     "exception": false,
     "start_time": "2023-02-17T16:36:15.731690",
     "status": "completed"
    },
    "tags": []
   },
   "outputs": [],
   "source": [
    "x_train=np.concatenate([x_train.to_numpy(),traindf],axis=1)"
   ]
  },
  {
   "cell_type": "code",
   "execution_count": 23,
   "id": "6e4ba0f1",
   "metadata": {
    "execution": {
     "iopub.execute_input": "2023-02-17T16:36:22.431441Z",
     "iopub.status.busy": "2023-02-17T16:36:22.431041Z",
     "iopub.status.idle": "2023-02-17T16:36:25.708055Z",
     "shell.execute_reply": "2023-02-17T16:36:25.706701Z"
    },
    "papermill": {
     "duration": 3.298181,
     "end_time": "2023-02-17T16:36:25.710980",
     "exception": false,
     "start_time": "2023-02-17T16:36:22.412799",
     "status": "completed"
    },
    "tags": []
   },
   "outputs": [],
   "source": [
    "x_test=np.concatenate([x_test.to_numpy(),testdf],axis=1)"
   ]
  },
  {
   "cell_type": "markdown",
   "id": "983e3f24",
   "metadata": {
    "papermill": {
     "duration": 0.016633,
     "end_time": "2023-02-17T16:36:25.743984",
     "exception": false,
     "start_time": "2023-02-17T16:36:25.727351",
     "status": "completed"
    },
    "tags": []
   },
   "source": [
    "## Modelling and prediction"
   ]
  },
  {
   "cell_type": "markdown",
   "id": "77a699df",
   "metadata": {
    "papermill": {
     "duration": 0.015928,
     "end_time": "2023-02-17T16:36:25.776298",
     "exception": false,
     "start_time": "2023-02-17T16:36:25.760370",
     "status": "completed"
    },
    "tags": []
   },
   "source": [
    "### Random Forest classifier"
   ]
  },
  {
   "cell_type": "code",
   "execution_count": 24,
   "id": "7b10eed4",
   "metadata": {
    "execution": {
     "iopub.execute_input": "2023-02-17T16:36:25.812294Z",
     "iopub.status.busy": "2023-02-17T16:36:25.811178Z",
     "iopub.status.idle": "2023-02-17T17:09:34.608086Z",
     "shell.execute_reply": "2023-02-17T17:09:34.606592Z"
    },
    "papermill": {
     "duration": 1988.834449,
     "end_time": "2023-02-17T17:09:34.627002",
     "exception": false,
     "start_time": "2023-02-17T16:36:25.792553",
     "status": "completed"
    },
    "tags": []
   },
   "outputs": [
    {
     "data": {
      "text/plain": [
       "0.726704443245188"
      ]
     },
     "execution_count": 24,
     "metadata": {},
     "output_type": "execute_result"
    }
   ],
   "source": [
    "from sklearn.ensemble import RandomForestClassifier\n",
    "from sklearn.metrics import accuracy_score\n",
    "rf = RandomForestClassifier()\n",
    "rf.fit(x_train,y_train)\n",
    "y_pred = rf.predict(x_test)\n",
    "accuracy_score(y_test,y_pred)\n",
    "\n"
   ]
  },
  {
   "cell_type": "code",
   "execution_count": 25,
   "id": "5e72f954",
   "metadata": {
    "execution": {
     "iopub.execute_input": "2023-02-17T17:09:34.662363Z",
     "iopub.status.busy": "2023-02-17T17:09:34.661893Z",
     "iopub.status.idle": "2023-02-17T17:09:34.940308Z",
     "shell.execute_reply": "2023-02-17T17:09:34.938819Z"
    },
    "papermill": {
     "duration": 0.299528,
     "end_time": "2023-02-17T17:09:34.943028",
     "exception": false,
     "start_time": "2023-02-17T17:09:34.643500",
     "status": "completed"
    },
    "tags": []
   },
   "outputs": [
    {
     "name": "stdout",
     "output_type": "stream",
     "text": [
      "              precision    recall  f1-score   support\n",
      "\n",
      "           0       0.94      0.71      0.81    110820\n",
      "           1       0.36      0.78      0.49     22596\n",
      "\n",
      "    accuracy                           0.73    133416\n",
      "   macro avg       0.65      0.75      0.65    133416\n",
      "weighted avg       0.84      0.73      0.76    133416\n",
      "\n"
     ]
    }
   ],
   "source": [
    "from sklearn.metrics import classification_report\n",
    "print(classification_report(y_pred,y_test))"
   ]
  },
  {
   "cell_type": "markdown",
   "id": "8131024b",
   "metadata": {
    "papermill": {
     "duration": 0.015862,
     "end_time": "2023-02-17T17:09:34.975145",
     "exception": false,
     "start_time": "2023-02-17T17:09:34.959283",
     "status": "completed"
    },
    "tags": []
   },
   "source": [
    "### Logistic regression"
   ]
  },
  {
   "cell_type": "code",
   "execution_count": 26,
   "id": "f1ffc34d",
   "metadata": {
    "execution": {
     "iopub.execute_input": "2023-02-17T17:09:35.009502Z",
     "iopub.status.busy": "2023-02-17T17:09:35.009022Z",
     "iopub.status.idle": "2023-02-17T17:09:55.159158Z",
     "shell.execute_reply": "2023-02-17T17:09:55.157807Z"
    },
    "papermill": {
     "duration": 20.171911,
     "end_time": "2023-02-17T17:09:55.163260",
     "exception": false,
     "start_time": "2023-02-17T17:09:34.991349",
     "status": "completed"
    },
    "tags": []
   },
   "outputs": [
    {
     "data": {
      "text/plain": [
       "0.7214052287581699"
      ]
     },
     "execution_count": 26,
     "metadata": {},
     "output_type": "execute_result"
    }
   ],
   "source": [
    "from sklearn.linear_model import LogisticRegression\n",
    "lg=LogisticRegression()\n",
    "lg.fit(x_train,y_train)\n",
    "y_pred2 = lg.predict(x_test)\n",
    "accuracy_score(y_pred2,y_test)\n"
   ]
  },
  {
   "cell_type": "code",
   "execution_count": 27,
   "id": "e9e2bcd8",
   "metadata": {
    "execution": {
     "iopub.execute_input": "2023-02-17T17:09:55.248799Z",
     "iopub.status.busy": "2023-02-17T17:09:55.248384Z",
     "iopub.status.idle": "2023-02-17T17:09:55.529422Z",
     "shell.execute_reply": "2023-02-17T17:09:55.527069Z"
    },
    "papermill": {
     "duration": 0.324232,
     "end_time": "2023-02-17T17:09:55.532761",
     "exception": false,
     "start_time": "2023-02-17T17:09:55.208529",
     "status": "completed"
    },
    "tags": []
   },
   "outputs": [
    {
     "name": "stdout",
     "output_type": "stream",
     "text": [
      "              precision    recall  f1-score   support\n",
      "\n",
      "           0       0.94      0.71      0.81    110820\n",
      "           1       0.36      0.78      0.49     22596\n",
      "\n",
      "    accuracy                           0.73    133416\n",
      "   macro avg       0.65      0.75      0.65    133416\n",
      "weighted avg       0.84      0.73      0.76    133416\n",
      "\n"
     ]
    }
   ],
   "source": [
    "from sklearn.metrics import classification_report\n",
    "print(classification_report(y_pred,y_test))"
   ]
  },
  {
   "cell_type": "markdown",
   "id": "46932610",
   "metadata": {
    "papermill": {
     "duration": 0.016845,
     "end_time": "2023-02-17T17:09:55.567176",
     "exception": false,
     "start_time": "2023-02-17T17:09:55.550331",
     "status": "completed"
    },
    "tags": []
   },
   "source": [
    "# **Deep learning**"
   ]
  },
  {
   "cell_type": "markdown",
   "id": "12eb1cf8",
   "metadata": {
    "papermill": {
     "duration": 0.021437,
     "end_time": "2023-02-17T17:09:55.606726",
     "exception": false,
     "start_time": "2023-02-17T17:09:55.585289",
     "status": "completed"
    },
    "tags": []
   },
   "source": [
    "## Train test split"
   ]
  },
  {
   "cell_type": "code",
   "execution_count": 28,
   "id": "bd525d88",
   "metadata": {
    "execution": {
     "iopub.execute_input": "2023-02-17T17:09:55.644139Z",
     "iopub.status.busy": "2023-02-17T17:09:55.643687Z",
     "iopub.status.idle": "2023-02-17T17:09:56.033930Z",
     "shell.execute_reply": "2023-02-17T17:09:56.032518Z"
    },
    "papermill": {
     "duration": 0.41232,
     "end_time": "2023-02-17T17:09:56.036633",
     "exception": false,
     "start_time": "2023-02-17T17:09:55.624313",
     "status": "completed"
    },
    "tags": []
   },
   "outputs": [],
   "source": [
    "from sklearn.model_selection import train_test_split\n",
    "x_train, x_test, y_train, y_test = train_test_split(train.drop('is_duplicate',axis=1),\n",
    "                                                    train['is_duplicate'],\n",
    "                                                    test_size=0.33,\n",
    "                                                    random_state=41\n",
    "                                                    )\n",
    " "
   ]
  },
  {
   "cell_type": "code",
   "execution_count": 29,
   "id": "44df87ab",
   "metadata": {
    "execution": {
     "iopub.execute_input": "2023-02-17T17:09:56.158496Z",
     "iopub.status.busy": "2023-02-17T17:09:56.158081Z",
     "iopub.status.idle": "2023-02-17T17:09:56.164760Z",
     "shell.execute_reply": "2023-02-17T17:09:56.163521Z"
    },
    "papermill": {
     "duration": 0.028506,
     "end_time": "2023-02-17T17:09:56.167804",
     "exception": false,
     "start_time": "2023-02-17T17:09:56.139298",
     "status": "completed"
    },
    "tags": []
   },
   "outputs": [
    {
     "name": "stdout",
     "output_type": "stream",
     "text": [
      "(270874, 12) ''''''' (133416, 12) '''''''''''' (133416,) '''''''' (270874,)\n"
     ]
    }
   ],
   "source": [
    "print(x_train.shape,\"'''''''\",x_test.shape,\"''''''''''''\",y_test.shape,\"''''''''\",y_train.shape)"
   ]
  },
  {
   "cell_type": "markdown",
   "id": "b2c4f62b",
   "metadata": {
    "papermill": {
     "duration": 0.016562,
     "end_time": "2023-02-17T17:09:56.201900",
     "exception": false,
     "start_time": "2023-02-17T17:09:56.185338",
     "status": "completed"
    },
    "tags": []
   },
   "source": [
    "### Tokenizing the text"
   ]
  },
  {
   "cell_type": "code",
   "execution_count": 30,
   "id": "39bafe69",
   "metadata": {
    "execution": {
     "iopub.execute_input": "2023-02-17T17:09:56.237218Z",
     "iopub.status.busy": "2023-02-17T17:09:56.236816Z",
     "iopub.status.idle": "2023-02-17T17:10:27.894255Z",
     "shell.execute_reply": "2023-02-17T17:10:27.893025Z"
    },
    "papermill": {
     "duration": 31.678646,
     "end_time": "2023-02-17T17:10:27.897371",
     "exception": false,
     "start_time": "2023-02-17T17:09:56.218725",
     "status": "completed"
    },
    "tags": []
   },
   "outputs": [],
   "source": [
    "from tensorflow.keras.preprocessing.text import Tokenizer\n",
    "max_vocab_size=2000\n",
    "tokenizer=Tokenizer(num_words=max_vocab_size)\n",
    "tokenizer.fit_on_texts(x_train['question1'])\n",
    "train1=tokenizer.texts_to_sequences(x_train['question1'])\n",
    "tokenizer.fit_on_texts(x_test['question1'])\n",
    "test1=tokenizer.texts_to_sequences(x_test['question1'])\n",
    "\n",
    "tokenizer2=Tokenizer(num_words=max_vocab_size)\n",
    "tokenizer2.fit_on_texts(x_train['question2'])\n",
    "train2=tokenizer2.texts_to_sequences(x_train['question2'])\n",
    "tokenizer2.fit_on_texts(x_test['question2'])\n",
    "test2=tokenizer2.texts_to_sequences(x_test['question2'])\n",
    "\n"
   ]
  },
  {
   "cell_type": "markdown",
   "id": "37d42195",
   "metadata": {
    "papermill": {
     "duration": 0.016705,
     "end_time": "2023-02-17T17:10:27.932344",
     "exception": false,
     "start_time": "2023-02-17T17:10:27.915639",
     "status": "completed"
    },
    "tags": []
   },
   "source": [
    "Finding how many different tokens are present in the data\n"
   ]
  },
  {
   "cell_type": "code",
   "execution_count": 31,
   "id": "6f4ef6d0",
   "metadata": {
    "execution": {
     "iopub.execute_input": "2023-02-17T17:10:27.970549Z",
     "iopub.status.busy": "2023-02-17T17:10:27.969792Z",
     "iopub.status.idle": "2023-02-17T17:10:27.975792Z",
     "shell.execute_reply": "2023-02-17T17:10:27.974468Z"
    },
    "papermill": {
     "duration": 0.028448,
     "end_time": "2023-02-17T17:10:27.978397",
     "exception": false,
     "start_time": "2023-02-17T17:10:27.949949",
     "status": "completed"
    },
    "tags": []
   },
   "outputs": [],
   "source": [
    "word2idx=tokenizer.word_index\n",
    "V=len(word2idx)"
   ]
  },
  {
   "cell_type": "markdown",
   "id": "6264d270",
   "metadata": {
    "papermill": {
     "duration": 0.01827,
     "end_time": "2023-02-17T17:10:28.014565",
     "exception": false,
     "start_time": "2023-02-17T17:10:27.996295",
     "status": "completed"
    },
    "tags": []
   },
   "source": [
    "### Padding sequence"
   ]
  },
  {
   "cell_type": "code",
   "execution_count": 32,
   "id": "f804f958",
   "metadata": {
    "execution": {
     "iopub.execute_input": "2023-02-17T17:10:28.051649Z",
     "iopub.status.busy": "2023-02-17T17:10:28.051252Z",
     "iopub.status.idle": "2023-02-17T17:10:30.310730Z",
     "shell.execute_reply": "2023-02-17T17:10:30.309488Z"
    },
    "papermill": {
     "duration": 2.281622,
     "end_time": "2023-02-17T17:10:30.313797",
     "exception": false,
     "start_time": "2023-02-17T17:10:28.032175",
     "status": "completed"
    },
    "tags": []
   },
   "outputs": [],
   "source": [
    "from tensorflow.keras.preprocessing.sequence import pad_sequences\n",
    "train1_pad = pad_sequences(train1)\n",
    "test1_pad=pad_sequences(test1)\n",
    "train2_pad = pad_sequences(train2)\n",
    "test2_pad=pad_sequences(test2)\n",
    "\n"
   ]
  },
  {
   "cell_type": "code",
   "execution_count": 33,
   "id": "56cd0e05",
   "metadata": {
    "execution": {
     "iopub.execute_input": "2023-02-17T17:10:30.350984Z",
     "iopub.status.busy": "2023-02-17T17:10:30.350562Z",
     "iopub.status.idle": "2023-02-17T17:10:30.771530Z",
     "shell.execute_reply": "2023-02-17T17:10:30.770211Z"
    },
    "papermill": {
     "duration": 0.443725,
     "end_time": "2023-02-17T17:10:30.775060",
     "exception": false,
     "start_time": "2023-02-17T17:10:30.331335",
     "status": "completed"
    },
    "tags": []
   },
   "outputs": [],
   "source": [
    "dtrain=np.hstack((train1_pad,train2_pad))\n",
    "dtest=np.hstack((test1_pad,test2_pad))\n",
    "dtest=pad_sequences(dtest,maxlen=116)"
   ]
  },
  {
   "cell_type": "code",
   "execution_count": 34,
   "id": "87d990a0",
   "metadata": {
    "execution": {
     "iopub.execute_input": "2023-02-17T17:10:30.812419Z",
     "iopub.status.busy": "2023-02-17T17:10:30.812023Z",
     "iopub.status.idle": "2023-02-17T17:10:30.818773Z",
     "shell.execute_reply": "2023-02-17T17:10:30.817420Z"
    },
    "papermill": {
     "duration": 0.029301,
     "end_time": "2023-02-17T17:10:30.821643",
     "exception": false,
     "start_time": "2023-02-17T17:10:30.792342",
     "status": "completed"
    },
    "tags": []
   },
   "outputs": [
    {
     "data": {
      "text/plain": [
       "(133416, 116)"
      ]
     },
     "execution_count": 34,
     "metadata": {},
     "output_type": "execute_result"
    }
   ],
   "source": [
    "dtest.shape"
   ]
  },
  {
   "cell_type": "code",
   "execution_count": 35,
   "id": "db59b9d9",
   "metadata": {
    "execution": {
     "iopub.execute_input": "2023-02-17T17:10:30.859173Z",
     "iopub.status.busy": "2023-02-17T17:10:30.857701Z",
     "iopub.status.idle": "2023-02-17T17:10:30.866560Z",
     "shell.execute_reply": "2023-02-17T17:10:30.864256Z"
    },
    "papermill": {
     "duration": 0.033733,
     "end_time": "2023-02-17T17:10:30.872453",
     "exception": false,
     "start_time": "2023-02-17T17:10:30.838720",
     "status": "completed"
    },
    "tags": []
   },
   "outputs": [],
   "source": [
    "T=dtrain.shape[1]\n",
    "word2idx=tokenizer.word_index\n",
    "V=len(word2idx)\n",
    "D=20\n"
   ]
  },
  {
   "cell_type": "markdown",
   "id": "cbc3057e",
   "metadata": {
    "papermill": {
     "duration": 0.020452,
     "end_time": "2023-02-17T17:10:30.916316",
     "exception": false,
     "start_time": "2023-02-17T17:10:30.895864",
     "status": "completed"
    },
    "tags": []
   },
   "source": [
    "## Model training and validation"
   ]
  },
  {
   "cell_type": "code",
   "execution_count": 36,
   "id": "cd5fbf5d",
   "metadata": {
    "execution": {
     "iopub.execute_input": "2023-02-17T17:10:30.952922Z",
     "iopub.status.busy": "2023-02-17T17:10:30.952474Z",
     "iopub.status.idle": "2023-02-17T17:25:26.288857Z",
     "shell.execute_reply": "2023-02-17T17:25:26.287631Z"
    },
    "papermill": {
     "duration": 895.367141,
     "end_time": "2023-02-17T17:25:26.300698",
     "exception": false,
     "start_time": "2023-02-17T17:10:30.933557",
     "status": "completed"
    },
    "tags": []
   },
   "outputs": [
    {
     "name": "stderr",
     "output_type": "stream",
     "text": [
      "2023-02-17 17:10:31.016156: I tensorflow/core/common_runtime/process_util.cc:146] Creating new thread pool with default inter op setting: 2. Tune using inter_op_parallelism_threads for best performance.\n",
      "2023-02-17 17:10:31.417348: I tensorflow/compiler/mlir/mlir_graph_optimization_pass.cc:185] None of the MLIR Optimization Passes are enabled (registered 2)\n"
     ]
    },
    {
     "name": "stdout",
     "output_type": "stream",
     "text": [
      "Epoch 1/5\n",
      "8465/8465 [==============================] - 183s 22ms/step - loss: 0.5588 - accuracy: 0.7153 - val_loss: 0.6654 - val_accuracy: 0.6316\n",
      "Epoch 2/5\n",
      "8465/8465 [==============================] - 182s 21ms/step - loss: 0.5229 - accuracy: 0.7408 - val_loss: 0.7029 - val_accuracy: 0.6343\n",
      "Epoch 3/5\n",
      "8465/8465 [==============================] - 180s 21ms/step - loss: 0.5028 - accuracy: 0.7550 - val_loss: 0.7010 - val_accuracy: 0.6325\n",
      "Epoch 4/5\n",
      "8465/8465 [==============================] - 176s 21ms/step - loss: 0.4871 - accuracy: 0.7648 - val_loss: 0.7323 - val_accuracy: 0.6278\n",
      "Epoch 5/5\n",
      "8465/8465 [==============================] - 174s 21ms/step - loss: 0.4738 - accuracy: 0.7736 - val_loss: 0.7697 - val_accuracy: 0.6226\n",
      "Model: \"model\"\n",
      "_________________________________________________________________\n",
      "Layer (type)                 Output Shape              Param #   \n",
      "=================================================================\n",
      "input_1 (InputLayer)         [(None, 116)]             0         \n",
      "_________________________________________________________________\n",
      "embedding (Embedding)        (None, 116, 20)           1266240   \n",
      "_________________________________________________________________\n",
      "conv1d (Conv1D)              (None, 114, 32)           1952      \n",
      "_________________________________________________________________\n",
      "max_pooling1d (MaxPooling1D) (None, 28, 32)            0         \n",
      "_________________________________________________________________\n",
      "conv1d_1 (Conv1D)            (None, 26, 64)            6208      \n",
      "_________________________________________________________________\n",
      "max_pooling1d_1 (MaxPooling1 (None, 6, 64)             0         \n",
      "_________________________________________________________________\n",
      "conv1d_2 (Conv1D)            (None, 4, 128)            24704     \n",
      "_________________________________________________________________\n",
      "global_max_pooling1d (Global (None, 128)               0         \n",
      "_________________________________________________________________\n",
      "dense (Dense)                (None, 1)                 129       \n",
      "=================================================================\n",
      "Total params: 1,299,233\n",
      "Trainable params: 1,299,233\n",
      "Non-trainable params: 0\n",
      "_________________________________________________________________\n"
     ]
    }
   ],
   "source": [
    "from keras.models import Model\n",
    "from keras.layers import Conv1D, MaxPooling1D, Dropout, Flatten, Dense, Activation, BatchNormalization,Input,Embedding, GlobalMaxPooling1D\n",
    "\n",
    "i = Input(shape=(T,))\n",
    "x = Embedding(V+1, D)(i)\n",
    "x = Conv1D(32, 3, activation='relu')(x)\n",
    "x = MaxPooling1D(4)(x)\n",
    "x = Conv1D(64, 3, activation='relu')(x)\n",
    "x = MaxPooling1D(4)(x)\n",
    "x = Conv1D(128, 3, activation='relu')(x)\n",
    "x = GlobalMaxPooling1D()(x)\n",
    "x = Dense(1, activation='sigmoid')(x)\n",
    "model = Model(i, x)\n",
    "\n",
    "model.compile(loss='binary_crossentropy', optimizer='adam', metrics=['accuracy'])\n",
    "model.fit(dtrain,y_train,\n",
    "          epochs=5,\n",
    "          validation_data=(dtest,y_test)\n",
    "         \n",
    "         )\n",
    "model.summary()"
   ]
  },
  {
   "cell_type": "markdown",
   "id": "ca15a93f",
   "metadata": {
    "papermill": {
     "duration": 1.011439,
     "end_time": "2023-02-17T17:25:28.261794",
     "exception": false,
     "start_time": "2023-02-17T17:25:27.250355",
     "status": "completed"
    },
    "tags": []
   },
   "source": [
    "I have attempted to solve the Quora Duplicate Question problem using both machine learning and deep learning approaches. Out of the two, I found that machine learning with feature engineering performed the best, achieving an accuracy of 85% using a random forest classifier. I am open to any suggestions on how I can improve this model and streamline my workflow. If you found my work helpful, I would appreciate an upvote.****"
   ]
  },
  {
   "cell_type": "code",
   "execution_count": null,
   "id": "70368d00",
   "metadata": {},
   "outputs": [],
   "source": []
  }
 ],
 "metadata": {
  "kernelspec": {
   "display_name": "Python 3 (ipykernel)",
   "language": "python",
   "name": "python3"
  },
  "language_info": {
   "codemirror_mode": {
    "name": "ipython",
    "version": 3
   },
   "file_extension": ".py",
   "mimetype": "text/x-python",
   "name": "python",
   "nbconvert_exporter": "python",
   "pygments_lexer": "ipython3",
   "version": "3.9.13"
  },
  "papermill": {
   "default_parameters": {},
   "duration": 3777.489508,
   "end_time": "2023-02-17T17:25:32.027624",
   "environment_variables": {},
   "exception": null,
   "input_path": "__notebook__.ipynb",
   "output_path": "__notebook__.ipynb",
   "parameters": {},
   "start_time": "2023-02-17T16:22:34.538116",
   "version": "2.3.4"
  }
 },
 "nbformat": 4,
 "nbformat_minor": 5
}
